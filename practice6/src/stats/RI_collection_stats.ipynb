{
  "cells": [
    {
      "cell_type": "markdown",
      "metadata": {
        "id": "P_6he0Abrl4C"
      },
      "source": [
        "# Statistiques de la collection INEX pour le projet de RI\n"
      ]
    },
    {
      "cell_type": "markdown",
      "metadata": {
        "id": "Fg5mFgrWsBxz"
      },
      "source": [
        "## imports"
      ]
    },
    {
      "cell_type": "code",
      "execution_count": null,
      "metadata": {
        "id": "U9fBpucxsDT7"
      },
      "outputs": [],
      "source": [
        "import os\n",
        "import sys\n",
        "import xml.dom.minidom as minidom\n",
        "import matplotlib.pyplot as plt\n",
        "\n",
        "from collections import Counter\n",
        "from tqdm import tqdm\n",
        "from typing import List, Tuple"
      ]
    },
    {
      "cell_type": "markdown",
      "metadata": {
        "id": "xNbBgMUBruoV"
      },
      "source": [
        "## Chargement de la collection depuis google drive"
      ]
    },
    {
      "cell_type": "code",
      "execution_count": null,
      "metadata": {
        "colab": {
          "base_uri": "https://localhost:8080/"
        },
        "id": "hfWTgN78rBVJ",
        "outputId": "14758121-1b1b-4a46-e1ca-8e8637179e09"
      },
      "outputs": [],
      "source": [
        "from google.colab import drive\n",
        "drive.mount('/content/drive')"
      ]
    },
    {
      "cell_type": "code",
      "execution_count": null,
      "metadata": {
        "id": "_qXn8SNAr1OC"
      },
      "outputs": [],
      "source": [
        "def fetch_articles(dir_collection:str) -> list[tuple[str, minidom.Document]]:\n",
        "    xml_files = [f for f in os.listdir(dir_collection) if f.lower().endswith('.xml')]\n",
        "    articles = []\n",
        "    for xml_file in tqdm(xml_files, desc=\"loading xml files ...\"):\n",
        "        file_path = os.path.join(dir_collection, xml_file)\n",
        "        id = xml_file.split('.')[0]\n",
        "        dom = minidom.parse(file_path)\n",
        "        articles += [(id, dom)]\n",
        "\n",
        "    return articles\n"
      ]
    },
    {
      "cell_type": "code",
      "execution_count": null,
      "metadata": {
        "id": "5svhRpgzsdHS"
      },
      "outputs": [],
      "source": [
        "dir_collection = \"/content/drive/MyDrive/data/RI/Practice_05_data/XML-Coll-withSem\""
      ]
    },
    {
      "cell_type": "code",
      "execution_count": null,
      "metadata": {
        "colab": {
          "base_uri": "https://localhost:8080/"
        },
        "id": "jxomo0pKswdM",
        "outputId": "29d05e13-5654-4bdc-f53d-90a579eb3483"
      },
      "outputs": [],
      "source": [
        "collection = fetch_articles(dir_collection)"
      ]
    },
    {
      "cell_type": "markdown",
      "metadata": {
        "id": "SyhDEKu1uceX"
      },
      "source": [
        "## Fonction d'affichage des fréquences"
      ]
    },
    {
      "cell_type": "code",
      "execution_count": null,
      "metadata": {
        "id": "ZEP1-JcqucH7"
      },
      "outputs": [],
      "source": [
        "def plot_tag_frequency(tag_counter: Counter, n: int = 10):\n",
        "    \"\"\"\n",
        "    Display a horizontal barplot of the top n most frequent tags.\n",
        "\n",
        "    Args:\n",
        "        tag_counter (Counter): A Counter object containing the frequency of tags.\n",
        "        n (int, optional): The number of tags to display. Default is 10.\n",
        "    \"\"\"\n",
        "    top_tags = tag_counter.most_common(n)\n",
        "\n",
        "    # Create a horizontal barplot\n",
        "    tags, frequencies = zip(*top_tags)\n",
        "    plt.barh(tags, frequencies, color='skyblue')\n",
        "    plt.xlabel('Frequency')\n",
        "    plt.title(f'Top {n} Most Frequent Tags in the XML Collection')\n",
        "    plt.show()"
      ]
    },
    {
      "cell_type": "code",
      "execution_count": null,
      "metadata": {
        "id": "ONwH2yoxwm2M"
      },
      "outputs": [],
      "source": [
        "def plot_tags_in_documents(tag_document_count: Counter, n: int = 10):\n",
        "    \"\"\"\n",
        "    Display a horizontal barplot of the number of documents each tag appears in.\n",
        "\n",
        "    Args:\n",
        "        tag_document_count (Counter): A Counter object containing the number of documents each tag appears in.\n",
        "        n (int, optional): The number of tags to display. Default is 10.\n",
        "    \"\"\"\n",
        "    # Select the top n tags with the highest number of documents\n",
        "    top_tags = tag_document_count.most_common(n)\n",
        "\n",
        "    # Create a horizontal barplot\n",
        "    tags, document_counts = zip(*top_tags)\n",
        "    plt.barh(tags, document_counts, color='lightcoral')\n",
        "    plt.xlabel('Number of Documents')\n",
        "    plt.title(f'Top {n} Tags by Number of Documents in the XML Collection')\n",
        "    plt.show()"
      ]
    },
    {
      "cell_type": "markdown",
      "metadata": {
        "id": "zZzwQwNDs6oO"
      },
      "source": [
        "## Fréquence totale des tags dans la collection"
      ]
    },
    {
      "cell_type": "code",
      "execution_count": null,
      "metadata": {
        "id": "doLQv_VTrTjE"
      },
      "outputs": [],
      "source": [
        "def calculate_tag_frequency(articles: list[tuple[str, minidom.Document]]) -> Counter:\n",
        "    \"\"\"\n",
        "    Calculate the frequency of tags in a collection of XML articles.\n",
        "\n",
        "    Args:\n",
        "        articles (List[Tuple[str, minidom.Document]]): A list of articles where each article is represented by\n",
        "                                                       a tuple (id, XML document).\n",
        "\n",
        "    Returns:\n",
        "        Counter: A Counter object containing the frequency of tags.\n",
        "    \"\"\"\n",
        "    tag_counter = Counter()\n",
        "\n",
        "    for article_id, dom in articles:\n",
        "        tags = [node.tagName for node in dom.getElementsByTagName('*')]\n",
        "        tag_counter.update(tags)\n",
        "\n",
        "    return tag_counter"
      ]
    },
    {
      "cell_type": "code",
      "execution_count": null,
      "metadata": {
        "id": "vJeRKFfKu-S9"
      },
      "outputs": [],
      "source": [
        "cf_tags = calculate_tag_frequency(collection)"
      ]
    },
    {
      "cell_type": "code",
      "execution_count": null,
      "metadata": {
        "colab": {
          "base_uri": "https://localhost:8080/",
          "height": 473
        },
        "id": "M1mza4Y4ux83",
        "outputId": "dda60aed-554c-48e9-dcf6-cfeba490d4db"
      },
      "outputs": [],
      "source": [
        "plot_tag_frequency(cf_tags, n=10)"
      ]
    },
    {
      "cell_type": "markdown",
      "metadata": {
        "id": "wyB8FXU1tHib"
      },
      "source": [
        "## Fréquence des tags par document"
      ]
    },
    {
      "cell_type": "code",
      "execution_count": null,
      "metadata": {
        "id": "EW9FTURXtO3h"
      },
      "outputs": [],
      "source": [
        "def count_tags_in_documents(articles: list[tuple[str, minidom.Document]]) -> Counter:\n",
        "    \"\"\"\n",
        "    Count how many documents in the collection each tag appears in.\n",
        "\n",
        "    Args:\n",
        "        articles (List[Tuple[str, minidom.Document]]): A list of articles where each article is represented by\n",
        "                                                       a tuple (id, XML document).\n",
        "\n",
        "    Returns:\n",
        "        Counter: A Counter object containing the number of documents each tag appears in.\n",
        "    \"\"\"\n",
        "    tag_document_count = Counter()\n",
        "    tag_documents = {}\n",
        "\n",
        "    for article_id, dom in tqdm(articles, \"count tags in documents...\"):\n",
        "        tags = set(node.tagName for node in dom.getElementsByTagName('*'))\n",
        "        for tag in tags:\n",
        "          if tag in tag_documents:\n",
        "            tag_documents[tag].add(article_id)\n",
        "          else:\n",
        "            tag_documents[tag] = set(article_id)\n",
        "\n",
        "    for tag, documents in tag_documents.items():\n",
        "        tag_document_count[tag] = len(documents)\n",
        "\n",
        "    return tag_document_count"
      ]
    },
    {
      "cell_type": "code",
      "execution_count": null,
      "metadata": {
        "colab": {
          "base_uri": "https://localhost:8080/"
        },
        "id": "CXl0zZkuwz_P",
        "outputId": "75aa0be8-4f6f-4dfe-dcba-3f01a770d845"
      },
      "outputs": [],
      "source": [
        "c_tags = count_tags_in_documents(collection)"
      ]
    },
    {
      "cell_type": "code",
      "execution_count": null,
      "metadata": {
        "colab": {
          "base_uri": "https://localhost:8080/",
          "height": 472
        },
        "id": "Q6nVB9mfxJN3",
        "outputId": "aff6bcf7-91d5-4e60-e76a-96a8a2dbe79a"
      },
      "outputs": [],
      "source": [
        "plot_tags_in_documents(c_tags, n=25)"
      ]
    },
    {
      "cell_type": "markdown",
      "metadata": {
        "id": "qKSgE_Bwz_S9"
      },
      "source": [
        "## Longueur moyenne des documents"
      ]
    },
    {
      "cell_type": "code",
      "execution_count": null,
      "metadata": {
        "colab": {
          "base_uri": "https://localhost:8080/"
        },
        "id": "gCvGIT4X1NRZ",
        "outputId": "118b2c22-0458-45d0-a9b0-5340b414bf93"
      },
      "outputs": [],
      "source": [
        "import nltk\n",
        "nltk.download('punkt')"
      ]
    },
    {
      "cell_type": "code",
      "execution_count": null,
      "metadata": {
        "id": "XIxgmDqu0Bm_"
      },
      "outputs": [],
      "source": [
        "def _extract_text(node):\n",
        "    \"\"\"\n",
        "    Extract recursively the text content of all children tags of a tag.\n",
        "    Args:\n",
        "    - node: a minidom.Node object.\n",
        "\n",
        "    Returns:\n",
        "    -the extracted text content as a raw string.\n",
        "    \"\"\"\n",
        "    text = \"\"\n",
        "\n",
        "    if node.nodeType == minidom.Node.ELEMENT_NODE:\n",
        "        for child_node in node.childNodes:\n",
        "            text += _extract_text(child_node)\n",
        "\n",
        "    elif node.nodeType == minidom.Node.TEXT_NODE:\n",
        "        text += node.nodeValue.strip()\n",
        "\n",
        "    return text"
      ]
    },
    {
      "cell_type": "code",
      "execution_count": null,
      "metadata": {
        "id": "M_WVAomL1LNX"
      },
      "outputs": [],
      "source": [
        "def count_words_in_articles(articles: List[Tuple[str, minidom.Document]]) -> int:\n",
        "    \"\"\"\n",
        "    Count the number of words in the content of each <article> tag in the XML documents.\n",
        "\n",
        "    Args:\n",
        "        articles (List[Tuple[str, minidom.Document]]): A list of articles where each article is represented by\n",
        "                                                        a tuple (id, XML document).\n",
        "\n",
        "    Returns:\n",
        "        int: The total number of words in the content of all <article> tags.\n",
        "    \"\"\"\n",
        "    total_words = 0\n",
        "\n",
        "    for _, dom in tqdm(articles, \"count words by article\"):\n",
        "        article_tags = dom.getElementsByTagName('article')\n",
        "\n",
        "        for article_tag in article_tags:\n",
        "            article_content = _extract_text(article_tag)\n",
        "\n",
        "            words = nltk.word_tokenize(article_content)\n",
        "\n",
        "            total_words += len(words)\n",
        "\n",
        "    return total_words"
      ]
    },
    {
      "cell_type": "code",
      "execution_count": null,
      "metadata": {
        "id": "5QiUKSEE0hLq"
      },
      "outputs": [],
      "source": [
        "doc_avg_len = count_words_in_articles(collection)"
      ]
    },
    {
      "cell_type": "code",
      "execution_count": null,
      "metadata": {
        "colab": {
          "base_uri": "https://localhost:8080/"
        },
        "id": "nCo08str0tjw",
        "outputId": "e88f7013-7929-41c8-f7dc-f2bf05d1c414"
      },
      "outputs": [],
      "source": [
        "n = len(collection)\n",
        "print(f'Nombre moyen de mots par documents : {round(doc_avg_len / n)}')"
      ]
    },
    {
      "cell_type": "markdown",
      "metadata": {
        "id": "vBU7zH4p2IwA"
      },
      "source": [
        "## Distribution des longueurs des documents"
      ]
    },
    {
      "cell_type": "code",
      "execution_count": null,
      "metadata": {
        "id": "FMa2l2sO1hLm"
      },
      "outputs": [],
      "source": [
        "def calculate_document_lengths(articles: list[tuple[str, minidom.Document]]) -> List[int]:\n",
        "    \"\"\"\n",
        "    Calculate the lengths of documents in the content of each <article> tag in the XML documents.\n",
        "\n",
        "    Args:\n",
        "        articles (List[Tuple[str, minidom.Document]]): A list of articles where each article is represented by\n",
        "                                                        a tuple (id, XML document).\n",
        "\n",
        "    Returns:\n",
        "        List[int]: A list containing the lengths of documents (number of characters) in the content of all <article> tags.\n",
        "    \"\"\"\n",
        "    document_lengths = []\n",
        "\n",
        "    for _, dom in tqdm(articles, \"calculate document lengths\"):\n",
        "        article_tags = dom.getElementsByTagName('article')\n",
        "\n",
        "        for article_tag in article_tags:\n",
        "            article_content = _extract_text(article_tag)\n",
        "            document_lengths.append(len(article_content))\n",
        "\n",
        "    return document_lengths"
      ]
    },
    {
      "cell_type": "code",
      "execution_count": null,
      "metadata": {
        "id": "xncQ0RUP2X9q"
      },
      "outputs": [],
      "source": [
        "def plot_document_length_distribution(document_lengths: List[int]):\n",
        "    \"\"\"\n",
        "    Plot the distribution of document lengths in the collection.\n",
        "\n",
        "    Args:\n",
        "        document_lengths (List[int]): A list containing the lengths of each document in the collection.\n",
        "    \"\"\"\n",
        "    # Create a histogram of document lengths\n",
        "    plt.hist(document_lengths, bins=20, color='lightgreen', edgecolor='black')\n",
        "    plt.xlabel('Document Length (Number of Characters)')\n",
        "    plt.ylabel('Number of Documents')\n",
        "    plt.title('Distribution of Document Lengths in the Collection')\n",
        "    plt.show()"
      ]
    },
    {
      "cell_type": "code",
      "execution_count": null,
      "metadata": {
        "colab": {
          "base_uri": "https://localhost:8080/"
        },
        "id": "wKaLVC1u2VYy",
        "outputId": "28b06299-ab7f-4fa5-c357-c325a2278bbe"
      },
      "outputs": [],
      "source": [
        "docs_len = calculate_document_lengths(collection)"
      ]
    },
    {
      "cell_type": "code",
      "execution_count": null,
      "metadata": {
        "colab": {
          "base_uri": "https://localhost:8080/",
          "height": 472
        },
        "id": "v6vRSp1O2dSJ",
        "outputId": "6176b1de-8d62-4431-ed29-402368ea07c0"
      },
      "outputs": [],
      "source": [
        "plot_document_length_distribution(docs_len)"
      ]
    },
    {
      "cell_type": "code",
      "execution_count": null,
      "metadata": {
        "id": "qND2upD92fjT"
      },
      "outputs": [],
      "source": []
    },
    {
      "cell_type": "markdown",
      "metadata": {
        "id": "FDExe42K23ka"
      },
      "source": [
        "## Nombre moyen de balises par document"
      ]
    },
    {
      "cell_type": "code",
      "execution_count": null,
      "metadata": {
        "id": "KTDGPUMf261k"
      },
      "outputs": [],
      "source": [
        "def calculate_average_tags_per_document(articles: list[tuple[str, minidom.Document]]) -> float:\n",
        "    \"\"\"\n",
        "    Calculate the average number of XML tags per document in a collection of articles.\n",
        "\n",
        "    Args:\n",
        "        articles (List[Tuple[str, minidom.Document]]): A list of articles where each article is represented by\n",
        "                                                       a tuple (id, XML document).\n",
        "\n",
        "    Returns:\n",
        "        float: The average number of XML tags per document.\n",
        "    \"\"\"\n",
        "    total_tags_count = 0\n",
        "    total_document_count = len(articles)\n",
        "\n",
        "    for article_id, dom in tqdm(articles, \"calculating average tags per document...\"):\n",
        "        tags_count = len(dom.getElementsByTagName('*'))\n",
        "        total_tags_count += tags_count\n",
        "\n",
        "    # Calculate the average number of tags per document\n",
        "    if total_document_count > 0:\n",
        "        average_tags_per_document = total_tags_count / total_document_count\n",
        "        return average_tags_per_document\n",
        "    else:\n",
        "        return 0.0"
      ]
    },
    {
      "cell_type": "code",
      "execution_count": null,
      "metadata": {
        "colab": {
          "base_uri": "https://localhost:8080/"
        },
        "id": "zARYtJJY3ZRI",
        "outputId": "2699d089-1468-4647-8b98-3f239e28a65e"
      },
      "outputs": [],
      "source": [
        "count_avg_tag_per_doc = calculate_average_tags_per_document(collection)"
      ]
    },
    {
      "cell_type": "code",
      "execution_count": null,
      "metadata": {
        "colab": {
          "base_uri": "https://localhost:8080/"
        },
        "id": "TQhsUz413g58",
        "outputId": "276f4fb3-bd22-4196-ed35-2147100a1d0b"
      },
      "outputs": [],
      "source": [
        "print(f'Nombre moyen de balise par document {round(count_avg_tag_per_doc)}')"
      ]
    },
    {
      "cell_type": "code",
      "execution_count": null,
      "metadata": {
        "id": "_d64yo9o3uWp"
      },
      "outputs": [],
      "source": []
    },
    {
      "cell_type": "markdown",
      "metadata": {
        "id": "MyjQ3xNW3zVD"
      },
      "source": [
        "## Profondeur moyenne des balises XML"
      ]
    },
    {
      "cell_type": "code",
      "execution_count": null,
      "metadata": {
        "id": "WaN9OXBV32aA"
      },
      "outputs": [],
      "source": [
        "def calculate_average_tag_depth(articles: list[tuple[str, minidom.Document]]) -> float:\n",
        "    \"\"\"\n",
        "    Calculate the average tag depth per document in a collection of articles.\n",
        "\n",
        "    Args:\n",
        "        articles (List[Tuple[str, minidom.Document]]): A list of articles where each article is represented by\n",
        "                                                       a tuple (id, XML document).\n",
        "\n",
        "    Returns:\n",
        "        float: The average tag depth per document.\n",
        "    \"\"\"\n",
        "    total_depth = 0\n",
        "    total_document_count = len(articles)\n",
        "\n",
        "    for article_id, dom in tqdm(articles, \"calculating average tag depth...\"):\n",
        "        tag_depths = [node.parentNode.childNodes.index(node) for node in dom.getElementsByTagName('*')]\n",
        "        total_depth += sum(tag_depths) / len(tag_depths) if len(tag_depths) > 0 else 0\n",
        "\n",
        "    # Calculate the average tag depth per document\n",
        "    if total_document_count > 0:\n",
        "        average_tag_depth = total_depth / total_document_count\n",
        "        return average_tag_depth\n",
        "    else:\n",
        "        return 0.0"
      ]
    },
    {
      "cell_type": "code",
      "execution_count": null,
      "metadata": {
        "colab": {
          "base_uri": "https://localhost:8080/"
        },
        "id": "_BbUQXL-3-3L",
        "outputId": "2d56453a-604e-4f38-dbcd-11a72cc2862a"
      },
      "outputs": [],
      "source": [
        "deep_tag = calculate_average_tag_depth(collection)"
      ]
    },
    {
      "cell_type": "code",
      "execution_count": null,
      "metadata": {
        "colab": {
          "base_uri": "https://localhost:8080/"
        },
        "id": "svEIs7E44Fa4",
        "outputId": "de12e042-10ff-429c-81ea-a05deef42b31"
      },
      "outputs": [],
      "source": [
        "print(f'Profondeur moyenne des balises XML : {round(deep_tag)}')"
      ]
    },
    {
      "cell_type": "code",
      "execution_count": null,
      "metadata": {
        "id": "9F6d5-jt4OEV"
      },
      "outputs": [],
      "source": [
        "def calculate_tag_depth_distribution(articles: list[tuple[str, minidom.Document]]) -> list[int]:\n",
        "    \"\"\"\n",
        "    Calculate the distribution of tag depths in a collection of articles.\n",
        "\n",
        "    Args:\n",
        "        articles (List[Tuple[str, minidom.Document]]): A list of articles where each article is represented by\n",
        "                                                       a tuple (id, XML document).\n",
        "\n",
        "    Returns:\n",
        "        List[int]: A list representing the distribution of tag depths.\n",
        "    \"\"\"\n",
        "    tag_depths_distribution = []\n",
        "\n",
        "    for article_id, dom in tqdm(articles, \"calculating tag depth distribution...\"):\n",
        "        tag_depths = [node.parentNode.childNodes.index(node) for node in dom.getElementsByTagName('*')]\n",
        "        tag_depths_distribution.extend(tag_depths)\n",
        "\n",
        "    return tag_depths_distribution"
      ]
    },
    {
      "cell_type": "code",
      "execution_count": null,
      "metadata": {
        "id": "7PsLUTbq4d56"
      },
      "outputs": [],
      "source": [
        "def plot_tag_depth_distribution(tag_depth_distribution: list[int]) -> None:\n",
        "    \"\"\"\n",
        "    Plot the distribution of tag depths.\n",
        "\n",
        "    Args:\n",
        "        tag_depth_distribution (List[int]): A list representing the distribution of tag depths.\n",
        "    \"\"\"\n",
        "    plt.hist(tag_depth_distribution, bins=range(max(tag_depth_distribution) + 1), align='left', edgecolor='black')\n",
        "    plt.xlabel('Tag Depth')\n",
        "    plt.ylabel('Frequency')\n",
        "    plt.title('Distribution of Tag Depths')\n",
        "    plt.xticks(range(0, 7, 0.1))\n",
        "    plt.show()"
      ]
    },
    {
      "cell_type": "code",
      "execution_count": null,
      "metadata": {
        "colab": {
          "base_uri": "https://localhost:8080/"
        },
        "id": "W3P6bCjP4k9X",
        "outputId": "9ce36474-c8c6-488d-e9a2-854ae6678868"
      },
      "outputs": [],
      "source": [
        "depth = calculate_tag_depth_distribution(collection)"
      ]
    },
    {
      "cell_type": "code",
      "execution_count": null,
      "metadata": {
        "colab": {
          "base_uri": "https://localhost:8080/",
          "height": 741
        },
        "id": "FCdP7Gko4tpp",
        "outputId": "e15d3356-ac41-4676-c456-d1f6eabf51d6"
      },
      "outputs": [],
      "source": [
        "plot_tag_depth_distribution(depth)"
      ]
    },
    {
      "cell_type": "markdown",
      "metadata": {
        "id": "Hiiuvg-054AO"
      },
      "source": [
        "## Distribution des nombre de balises par document"
      ]
    },
    {
      "cell_type": "code",
      "execution_count": null,
      "metadata": {
        "id": "legVQzHA4wqT"
      },
      "outputs": [],
      "source": [
        "def calculate_tag_count_distribution(articles: List[Tuple[str, minidom.Document]]) -> Counter:\n",
        "    \"\"\"\n",
        "    Calculate the distribution of the number of tags per document in a collection of XML articles.\n",
        "\n",
        "    Args:\n",
        "        articles (List[Tuple[str, minidom.Document]]): A list of articles where each article is represented by\n",
        "                                                       a tuple (id, XML document).\n",
        "\n",
        "    Returns:\n",
        "        Counter: A Counter object containing the distribution of the number of tags per document.\n",
        "    \"\"\"\n",
        "    tag_count_distribution = Counter()\n",
        "\n",
        "    for article_id, dom in tqdm(articles, \"calculating tag count distribution...\"):\n",
        "        tag_count = len(dom.getElementsByTagName('*'))\n",
        "        tag_count_distribution[tag_count] += 1\n",
        "\n",
        "    return tag_count_distribution\n"
      ]
    },
    {
      "cell_type": "code",
      "execution_count": null,
      "metadata": {
        "id": "vtpy0uxn58bI"
      },
      "outputs": [],
      "source": [
        "def plot_tag_count_distribution(tag_count_distribution: Counter):\n",
        "    \"\"\"\n",
        "    Display a histogram of the distribution of the number of tags per document.\n",
        "\n",
        "    Args:\n",
        "        tag_count_distribution (Counter): A Counter object containing the distribution of the number of tags per document.\n",
        "    \"\"\"\n",
        "    # Extract data for plotting\n",
        "    counts, frequencies = zip(*sorted(tag_count_distribution.items()))\n",
        "\n",
        "    # Create a histogram\n",
        "    plt.bar(counts, frequencies, color='lightgreen')\n",
        "    plt.xlabel('Number of Tags per Document')\n",
        "    plt.ylabel('Frequency')\n",
        "    plt.title('Distribution of Number of Tags per Document in the XML Collection')\n",
        "    plt.show()"
      ]
    },
    {
      "cell_type": "code",
      "execution_count": null,
      "metadata": {
        "colab": {
          "base_uri": "https://localhost:8080/"
        },
        "id": "RfyAVLxR5-WQ",
        "outputId": "29432475-26b4-429b-924c-149bf0c0e300"
      },
      "outputs": [],
      "source": [
        "tag_count_distribution = calculate_tag_count_distribution(collection)"
      ]
    },
    {
      "cell_type": "code",
      "execution_count": null,
      "metadata": {
        "colab": {
          "base_uri": "https://localhost:8080/",
          "height": 472
        },
        "id": "xauqzYWS6DtW",
        "outputId": "1ddbf23b-07d0-4636-d28c-3cc833baaa25"
      },
      "outputs": [],
      "source": [
        "plot_tag_count_distribution(tag_count_distribution)"
      ]
    },
    {
      "cell_type": "markdown",
      "metadata": {
        "id": "aYuwYA5g6fRr"
      },
      "source": [
        "## Nombre d'occrurences de balise XML imbriquées"
      ]
    },
    {
      "cell_type": "code",
      "execution_count": null,
      "metadata": {
        "id": "UvUKD83k6Ecq"
      },
      "outputs": [],
      "source": [
        "def count_nested_tags_occurrences(articles: List[Tuple[str, minidom.Document]]) -> Counter:\n",
        "    \"\"\"\n",
        "    Count the occurrences of nested XML tags in a collection of XML documents.\n",
        "\n",
        "    Args:\n",
        "        articles (List[Tuple[str, minidom.Document]]): A list of articles where each article is represented by\n",
        "                                                       a tuple (id, XML document).\n",
        "\n",
        "    Returns:\n",
        "        Counter: A Counter object containing the occurrences of nested XML tags.\n",
        "    \"\"\"\n",
        "    nested_tags_occurrences = Counter()\n",
        "\n",
        "    for _, dom in articles:\n",
        "        # Get all elements in the XML document\n",
        "        elements = dom.getElementsByTagName('*')\n",
        "\n",
        "        # Extract tag names and count occurrences of nested tags\n",
        "        tag_stack = []\n",
        "        for element in elements:\n",
        "            tag_name = element.tagName\n",
        "            if tag_stack:\n",
        "                parent_tag = tag_stack[-1]\n",
        "                nested_tag = f\"{parent_tag}.{tag_name}\"\n",
        "                nested_tags_occurrences[nested_tag] += 1\n",
        "            tag_stack.append(tag_name)\n",
        "\n",
        "    return nested_tags_occurrences"
      ]
    },
    {
      "cell_type": "code",
      "execution_count": null,
      "metadata": {
        "id": "rxDBllZ36kT5"
      },
      "outputs": [],
      "source": [
        "def plot_nested_tags_occurrences(nested_tags_occurrences: Counter, n: int = 10):\n",
        "    \"\"\"\n",
        "    Display a horizontal barplot of the top n most frequent nested tags.\n",
        "\n",
        "    Args:\n",
        "        nested_tags_occurrences (Counter): A Counter object containing the occurrences of nested XML tags.\n",
        "        n (int, optional): The number of nested tags to display. Default is 10.\n",
        "    \"\"\"\n",
        "    # Select the top n most frequent nested tags\n",
        "    top_nested_tags = nested_tags_occurrences.most_common(n)\n",
        "\n",
        "    # Create a horizontal barplot\n",
        "    tags, occurrences = zip(*top_nested_tags)\n",
        "    plt.barh(tags, occurrences, color='lightgreen')\n",
        "    plt.xlabel('Occurrences')\n",
        "    plt.title(f'Top {n} Most Frequent Nested XML Tags in the Collection')\n",
        "    plt.show()\n"
      ]
    },
    {
      "cell_type": "code",
      "execution_count": null,
      "metadata": {
        "id": "SqokTK8j6mJd"
      },
      "outputs": [],
      "source": [
        "nested_tags_count = count_nested_tags_occurrences(collection)"
      ]
    },
    {
      "cell_type": "code",
      "execution_count": null,
      "metadata": {
        "colab": {
          "base_uri": "https://localhost:8080/",
          "height": 472
        },
        "id": "697HlMep6wgp",
        "outputId": "6bdb63c4-8fcd-4e57-c2bd-b5d3666fbfff"
      },
      "outputs": [],
      "source": [
        "plot_nested_tags_occurrences(nested_tags_count, n=25)"
      ]
    },
    {
      "cell_type": "markdown",
      "metadata": {
        "id": "leXPkYNJ7AhR"
      },
      "source": [
        "# Mots les plus fréquents de la collection"
      ]
    },
    {
      "cell_type": "code",
      "execution_count": null,
      "metadata": {
        "id": "7izzwSqm7g9N"
      },
      "outputs": [],
      "source": [
        "from xml.dom import minidom\n",
        "from nltk.tokenize import word_tokenize\n",
        "import re\n",
        "\n",
        "def calculate_word_frequencies(articles: List[Tuple[str, minidom.Document]]) -> Counter:\n",
        "    \"\"\"\n",
        "    Calculate the frequencies of individual words in a collection of XML articles.\n",
        "\n",
        "    Args:\n",
        "        articles (List[Tuple[str, minidom.Document]]): A list of articles where each article is represented by\n",
        "                                                       a tuple (id, XML document).\n",
        "\n",
        "    Returns:\n",
        "        Counter: A Counter object containing the frequencies of individual words.\n",
        "    \"\"\"\n",
        "    word_counter = Counter()\n",
        "\n",
        "    for article_id, dom in tqdm(articles, \"calculating word frequencies...\"):\n",
        "        text_content = ' '.join(node.nodeValue for node in dom.getElementsByTagName('*') if node.nodeType == node.TEXT_NODE)\n",
        "\n",
        "        words = word_tokenize(text_content.lower())\n",
        "\n",
        "        words = [re.sub(r'[^a-zA-Z]', '', word) for word in words if word]\n",
        "\n",
        "        word_counter.update(words)\n",
        "\n",
        "    return word_counter"
      ]
    },
    {
      "cell_type": "code",
      "execution_count": null,
      "metadata": {
        "id": "nuRGSiuP7nsu"
      },
      "outputs": [],
      "source": [
        "def plot_word_frequencies(word_counter: Counter, top_n: int = 10):\n",
        "    \"\"\"\n",
        "    Plot an histogram of the top word frequencies.\n",
        "\n",
        "    Args:\n",
        "        word_counter (Counter): A Counter object containing the frequencies of individual words.\n",
        "        top_n (int, optional): The number of top words to display. Default is 10.\n",
        "    \"\"\"\n",
        "    top_words = word_counter.most_common(top_n)\n",
        "\n",
        "    words, frequencies = zip(*top_words)\n",
        "\n",
        "    plt.figure(figsize=(10, 6))\n",
        "    plt.bar(range(len(words)), frequencies, tick_label=[f\"{word}\" for word in words], color='c')\n",
        "    plt.xlabel(\"Words\")\n",
        "    plt.ylabel(\"Frequency\")\n",
        "    plt.title(f\"Top {top_n} Word Frequencies\")\n",
        "    plt.xticks(rotation=45, ha='right')\n",
        "    plt.tight_layout()\n",
        "    plt.show()"
      ]
    },
    {
      "cell_type": "code",
      "execution_count": null,
      "metadata": {
        "colab": {
          "base_uri": "https://localhost:8080/"
        },
        "id": "L0KV2k7O7p1i",
        "outputId": "e0970b82-dcf1-4e61-a29c-6e610df8c526"
      },
      "outputs": [],
      "source": [
        "word_frequencies = calculate_word_frequencies(collection)"
      ]
    },
    {
      "cell_type": "code",
      "execution_count": null,
      "metadata": {
        "id": "e63CSGI18DpC"
      },
      "outputs": [],
      "source": [
        "plot_word_frequencies(word_frequencies, top_n=10)"
      ]
    }
  ],
  "metadata": {
    "colab": {
      "provenance": []
    },
    "kernelspec": {
      "display_name": "Python 3",
      "name": "python3"
    },
    "language_info": {
      "name": "python"
    }
  },
  "nbformat": 4,
  "nbformat_minor": 0
}
